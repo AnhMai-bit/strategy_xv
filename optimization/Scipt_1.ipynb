{
 "cells": [
  {
   "cell_type": "code",
   "execution_count": 2,
   "id": "f12b877b",
   "metadata": {},
   "outputs": [],
   "source": [
    "# Solar irradiance on the southern hemisphere on October 17, at sea-level 13.01UTC (plane pointing upwards)?\n",
    "\n",
    "# https://pypi.org/project/solarpy/\n",
    "import numpy as np\n",
    "from solarpy import irradiance_on_plane\n",
    "import datetime\n",
    "\n",
    "vnorm = np.array([0, 0, -1])  # plane pointing zenith\n",
    "h = 0  # sea-level\n",
    "date = datetime.datetime(2019, 10, 17, 13, 1, tzinfo=datetime.timezone.utc)  # year, month, day, hour, minute\n",
    "# calc: make intervals of 15 min, date time in loop --> sunrise and sunset\n",
    "lat = -23.5  # southern hemisphere\n",
    "\n",
    "irradiance = irradiance_on_plane(vnorm, h, date, lat)"
   ]
  },
  {
   "cell_type": "code",
   "execution_count": 4,
   "id": "7be6c1a6",
   "metadata": {},
   "outputs": [],
   "source": [
    "import pandas as pd\n",
    "\n",
    "lat = ['40.73']\n",
    "lon = ['-73.93']\n",
    "\n",
    "dict = {'lat': lat, 'lon': lon, 'irradiance (W/m2)': irradiance}\n",
    "df = pd.DataFrame(dict)\n",
    "\n",
    "# Save the dataframe to a CSV file\n",
    "df.to_csv('Irradiance.csv', index=False)"
   ]
  },
  {
   "cell_type": "code",
   "execution_count": null,
   "id": "87f07ecd",
   "metadata": {},
   "outputs": [],
   "source": []
  }
 ],
 "metadata": {
  "kernelspec": {
   "display_name": "Python 3 (ipykernel)",
   "language": "python",
   "name": "python3"
  },
  "language_info": {
   "codemirror_mode": {
    "name": "ipython",
    "version": 3
   },
   "file_extension": ".py",
   "mimetype": "text/x-python",
   "name": "python",
   "nbconvert_exporter": "python",
   "pygments_lexer": "ipython3",
   "version": "3.10.9"
  }
 },
 "nbformat": 4,
 "nbformat_minor": 5
}
