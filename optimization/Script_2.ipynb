{
 "cells": [
  {
   "cell_type": "code",
   "execution_count": 2,
   "id": "a0b133eb",
   "metadata": {},
   "outputs": [],
   "source": [
    "import datetime\n",
    "from numpy import array\n",
    "from solarpy import solar_panel\n",
    "\n",
    "date = datetime.datetime(2019, 10, 17, 13, 1, tzinfo=datetime.timezone.utc)  # year, month, day, hour, minute\n",
    "\n",
    "lat = 40.73\n",
    "lon = -73.93\n",
    "\n",
    "panel = solar_panel(2.1, 0.2, id_name='NYC_xmas')  # surface, efficiency and name\n",
    "panel.set_orientation(array([0, 0, -1]))  # upwards\n",
    "panel.set_position(lat, lon, 0)  # NYC latitude, longitude, altitude\n",
    "panel.set_datetime(date)  # Christmas Day! Change to hours\n",
    "power = panel.power()\n",
    "# use power output --> convert equivalence of normalized\n",
    "# convert to energy (consider: solar shading for canopy, )"
   ]
  },
  {
   "cell_type": "code",
   "execution_count": 5,
   "id": "d4d23463",
   "metadata": {},
   "outputs": [],
   "source": [
    "import pandas as pd\n",
    "\n",
    "lat = ['40.73']\n",
    "lon = ['-73.93']\n",
    "\n",
    "dict = {'lat': lat, 'lon': lon, 'power (W)': power}\n",
    "df = pd.DataFrame(dict)\n",
    "\n",
    "# Save the dataframe to a CSV file\n",
    "df.to_csv('Power.csv', index=False)"
   ]
  },
  {
   "cell_type": "code",
   "execution_count": null,
   "id": "c77992b5",
   "metadata": {},
   "outputs": [],
   "source": []
  }
 ],
 "metadata": {
  "kernelspec": {
   "display_name": "Python 3 (ipykernel)",
   "language": "python",
   "name": "python3"
  },
  "language_info": {
   "codemirror_mode": {
    "name": "ipython",
    "version": 3
   },
   "file_extension": ".py",
   "mimetype": "text/x-python",
   "name": "python",
   "nbconvert_exporter": "python",
   "pygments_lexer": "ipython3",
   "version": "3.10.9"
  }
 },
 "nbformat": 4,
 "nbformat_minor": 5
}
