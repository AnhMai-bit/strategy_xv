{
 "cells": [
  {
   "cell_type": "code",
   "execution_count": null,
   "id": "f5862888",
   "metadata": {},
   "outputs": [],
   "source": [
    "# Solar irradiance on the southern hemisphere on October 17, at sea-level 13.01UTC (plane pointing upwards)?\n",
    "\n",
    "# https://pypi.org/project/solarpy/\n",
    "import numpy as np\n",
    "from solarpy import irradiance_on_plane\n",
    "from datetime import datetime\n",
    "\n",
    "vnorm = np.array([0, 0, -1])  # plane pointing zenith\n",
    "h = 0  # sea-level\n",
    "date = datetime(2019, 10, 17, 13, 1)  # year, month, day, hour, minute\n",
    "# calc: make intervals of 15 min, date time in loop --> sunrise and sunset\n",
    "lat = -23.5  # southern hemisphere\n",
    "\n",
    "irradiance_on_plane(vnorm, h, date, lat)"
   ]
  },
  {
   "cell_type": "code",
   "execution_count": null,
   "id": "d46111b4",
   "metadata": {},
   "outputs": [],
   "source": [
    "# Power output (in W) of a solar panel with the following characteristics:\n",
    "# surface of 2.1 sqm\n",
    "# efficiency of 0.2\n",
    "# pointing upwards\n",
    "# in NYC\n",
    "# on December 25, at 16.15\n",
    "from numpy import array\n",
    "from solarpy import solar_panel\n",
    "from datetime import datetime\n",
    "\n",
    "panel = solar_panel(2.1, 0.2, id_name='NYC_xmas')  # surface, efficiency and name\n",
    "panel.set_orientation(array([0, 0, -1]))  # upwards\n",
    "panel.set_position(lat, lon, 0)  # NYC latitude, longitude, altitude\n",
    "panel.set_datetime(datetime(2019, 12, 25, 16, 15))  # Christmas Day! Change to hours\n",
    "panel.power()\n",
    "# use power output --> convert equivalence of normalized\n",
    "# convert to energy (consider: solar shading for canopy, )"
   ]
  },
  {
   "cell_type": "code",
   "execution_count": null,
   "id": "b629ee17",
   "metadata": {},
   "outputs": [],
   "source": []
  }
 ],
 "metadata": {
  "kernelspec": {
   "display_name": "Python 3 (ipykernel)",
   "language": "python",
   "name": "python3"
  },
  "language_info": {
   "codemirror_mode": {
    "name": "ipython",
    "version": 3
   },
   "file_extension": ".py",
   "mimetype": "text/x-python",
   "name": "python",
   "nbconvert_exporter": "python",
   "pygments_lexer": "ipython3",
   "version": "3.10.9"
  }
 },
 "nbformat": 4,
 "nbformat_minor": 5
}
