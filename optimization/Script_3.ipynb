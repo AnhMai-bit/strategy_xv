{
 "cells": [
  {
   "cell_type": "code",
   "execution_count": 8,
   "id": "f3eb8218",
   "metadata": {},
   "outputs": [],
   "source": [
    "from pysolar.solar import *\n",
    "import datetime\n",
    "\n",
    "lat = 40.73\n",
    "lon = -73.93\n",
    "\n",
    "date = datetime.datetime(2019, 10, 17, 13, 1, tzinfo=datetime.timezone.utc)  # year, month, day, hour, minute\n",
    "\n",
    "altitude_deg = get_altitude(lat, lon, date)\n",
    "radiation_result = radiation.get_radiation_direct(date, altitude_deg)"
   ]
  },
  {
   "cell_type": "code",
   "execution_count": 9,
   "id": "1e6d7067",
   "metadata": {},
   "outputs": [],
   "source": [
    "import pandas as pd\n",
    "\n",
    "lat = ['40.73']\n",
    "lon = ['-73.93']\n",
    "\n",
    "dict = {'lat': lat, 'lon': lon, 'altitude degrees': altitude_deg, 'radiation': radiation_result}\n",
    "df = pd.DataFrame(dict)\n",
    "\n",
    "# Save the dataframe to a CSV file\n",
    "df.to_csv('Radiation.csv', index=False)"
   ]
  },
  {
   "cell_type": "code",
   "execution_count": null,
   "id": "c0f0600a",
   "metadata": {},
   "outputs": [],
   "source": []
  }
 ],
 "metadata": {
  "kernelspec": {
   "display_name": "Python 3 (ipykernel)",
   "language": "python",
   "name": "python3"
  },
  "language_info": {
   "codemirror_mode": {
    "name": "ipython",
    "version": 3
   },
   "file_extension": ".py",
   "mimetype": "text/x-python",
   "name": "python",
   "nbconvert_exporter": "python",
   "pygments_lexer": "ipython3",
   "version": "3.10.9"
  }
 },
 "nbformat": 4,
 "nbformat_minor": 5
}
